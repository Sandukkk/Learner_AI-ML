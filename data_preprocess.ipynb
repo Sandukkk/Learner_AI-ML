{
  "nbformat": 4,
  "nbformat_minor": 0,
  "metadata": {
    "colab": {
      "provenance": [],
      "gpuType": "T4",
      "include_colab_link": true
    },
    "kernelspec": {
      "name": "python3",
      "display_name": "Python 3"
    },
    "language_info": {
      "name": "python"
    }
  },
  "cells": [
    {
      "cell_type": "markdown",
      "metadata": {
        "id": "view-in-github",
        "colab_type": "text"
      },
      "source": [
        "<a href=\"https://colab.research.google.com/github/Sandukkk/Learner_AI-ML/blob/main/data_preprocess.ipynb\" target=\"_parent\"><img src=\"https://colab.research.google.com/assets/colab-badge.svg\" alt=\"Open In Colab\"/></a>"
      ]
    },
    {
      "cell_type": "markdown",
      "source": [
        "Text preprocessing\n",
        "\n",
        "* Load raw text data from the source\n",
        "* Clean raw texts\n",
        "* Crate tokens, split string into words list\n",
        "* Create token in ints (indices)\n",
        "* Create the embedding the vectors before feeding the vectors into the Networks."
      ],
      "metadata": {
        "id": "brGIxs1et1kS"
      }
    },
    {
      "cell_type": "code",
      "execution_count": 1,
      "metadata": {
        "id": "FnwtxuCvRRLk",
        "colab": {
          "base_uri": "https://localhost:8080/"
        },
        "outputId": "bece5a47-2bc1-46f1-c078-10ca9eed00b4"
      },
      "outputs": [
        {
          "output_type": "stream",
          "name": "stdout",
          "text": [
            "Mounted at gdrive\n"
          ]
        }
      ],
      "source": [
        "import torch\n",
        "import torch.nn as nn\n",
        "import torch.optim as optim\n",
        "from google.colab import drive\n",
        "drive.mount('gdrive')\n",
        "import pandas as pd\n",
        "import numpy as np\n",
        "from torch.utils.data import DataLoader"
      ]
    },
    {
      "cell_type": "markdown",
      "source": [
        "Load raw text from sources"
      ],
      "metadata": {
        "id": "96ydasrovU7O"
      }
    },
    {
      "cell_type": "code",
      "source": [
        "data_file = \"/content/gdrive/My Drive/pubmed/pubmed_abs.csv\"\n",
        "df = pd.read_csv(data_file)"
      ],
      "metadata": {
        "id": "LsyrNMsYxHqf"
      },
      "execution_count": 2,
      "outputs": []
    },
    {
      "cell_type": "markdown",
      "source": [
        "Create token, split words"
      ],
      "metadata": {
        "id": "u8_RGYcFxOOE"
      }
    },
    {
      "cell_type": "code",
      "source": [
        "texts = df[\"Abstract\"].str.cat(sep=' ').lower().split( ' ')"
      ],
      "metadata": {
        "id": "AS-aXXQi5J0Y"
      },
      "execution_count": 3,
      "outputs": []
    },
    {
      "cell_type": "code",
      "source": [
        "len(texts)"
      ],
      "metadata": {
        "id": "JO3E9LdzOhGg",
        "colab": {
          "base_uri": "https://localhost:8080/"
        },
        "outputId": "e9a7c63a-bce4-4506-ce1b-af3c3cf2d3a2"
      },
      "execution_count": 4,
      "outputs": [
        {
          "output_type": "execute_result",
          "data": {
            "text/plain": [
              "58345"
            ]
          },
          "metadata": {},
          "execution_count": 4
        }
      ]
    },
    {
      "cell_type": "markdown",
      "source": [
        "Create moel"
      ],
      "metadata": {
        "id": "7F_wY0i1SmjD"
      }
    },
    {
      "cell_type": "code",
      "source": [
        "texts[:24]"
      ],
      "metadata": {
        "id": "JAs4U0tkDAQd",
        "colab": {
          "base_uri": "https://localhost:8080/"
        },
        "outputId": "e7cee6a7-1c17-4a7b-c193-cf14e2f4726b"
      },
      "execution_count": 5,
      "outputs": [
        {
          "output_type": "execute_result",
          "data": {
            "text/plain": [
              "['how',\n",
              " 'is',\n",
              " 'professional',\n",
              " 'purpose',\n",
              " 'impacted',\n",
              " 'in',\n",
              " 'the',\n",
              " 'context',\n",
              " 'of',\n",
              " 'a',\n",
              " 'crisis',\n",
              " 'building',\n",
              " 'on',\n",
              " 'discussions',\n",
              " 'about',\n",
              " 'professional',\n",
              " 'purpose',\n",
              " 'and',\n",
              " 'identity',\n",
              " 'the',\n",
              " 'paper',\n",
              " 'explores',\n",
              " 'how',\n",
              " 'the']"
            ]
          },
          "metadata": {},
          "execution_count": 5
        }
      ]
    },
    {
      "cell_type": "markdown",
      "source": [
        "Counts the words and find the unique words"
      ],
      "metadata": {
        "id": "NSyZmWcbx6Bx"
      }
    },
    {
      "cell_type": "code",
      "source": [
        "from collections import Counter\n",
        "word_counts = Counter(texts)\n",
        "ll = word_counts.items()\n",
        "list(ll)[:10]"
      ],
      "metadata": {
        "id": "NU4Jkf_rSuMp",
        "colab": {
          "base_uri": "https://localhost:8080/"
        },
        "outputId": "2a2cb396-4339-4c0d-d95c-d9428fb059bc"
      },
      "execution_count": 6,
      "outputs": [
        {
          "output_type": "execute_result",
          "data": {
            "text/plain": [
              "[('how', 33),\n",
              " ('is', 268),\n",
              " ('professional', 11),\n",
              " ('purpose', 14),\n",
              " ('impacted', 7),\n",
              " ('in', 1298),\n",
              " ('the', 3216),\n",
              " ('context', 14),\n",
              " ('of', 2157),\n",
              " ('a', 864)]"
            ]
          },
          "metadata": {},
          "execution_count": 6
        }
      ]
    },
    {
      "cell_type": "code",
      "source": [
        "uniq_words = sorted(word_counts, key=word_counts.get, reverse=True)"
      ],
      "metadata": {
        "id": "Qd4Bva6imj2g"
      },
      "execution_count": 7,
      "outputs": []
    },
    {
      "cell_type": "code",
      "source": [
        "uniq_words[:10]"
      ],
      "metadata": {
        "id": "yX2tJAhIUfHt",
        "colab": {
          "base_uri": "https://localhost:8080/"
        },
        "outputId": "882c8895-d90b-48f4-bfff-9bf22f488ab8"
      },
      "execution_count": 8,
      "outputs": [
        {
          "output_type": "execute_result",
          "data": {
            "text/plain": [
              "['the', 'of', 'and', 'in', 'to', 'a', 'covid', '19', 'with', 'for']"
            ]
          },
          "metadata": {},
          "execution_count": 8
        }
      ]
    },
    {
      "cell_type": "markdown",
      "source": [
        "Change words into the ints (index)"
      ],
      "metadata": {
        "id": "JPX6GKyxzKiW"
      }
    },
    {
      "cell_type": "code",
      "source": [
        "index_to_word = {index: word for index, word in enumerate(uniq_words)}\n",
        "word_to_index = {word: index for index, word in enumerate(uniq_words)}"
      ],
      "metadata": {
        "id": "WPYhtoaDUi-w"
      },
      "execution_count": 10,
      "outputs": []
    },
    {
      "cell_type": "code",
      "source": [
        "words_indexes = [word_to_index[w] for w in texts]"
      ],
      "metadata": {
        "id": "-Fj4pyU1VMHr"
      },
      "execution_count": 11,
      "outputs": []
    },
    {
      "cell_type": "code",
      "source": [
        "words_indexes[:10], texts[:10]"
      ],
      "metadata": {
        "id": "5CxG2W3IVcMl",
        "colab": {
          "base_uri": "https://localhost:8080/"
        },
        "outputId": "e7503336-825d-4f2b-bc3e-8f26beecc2a2"
      },
      "execution_count": 12,
      "outputs": [
        {
          "output_type": "execute_result",
          "data": {
            "text/plain": [
              "([234, 22, 763, 592, 1163, 3, 0, 593, 1, 5],\n",
              " ['how',\n",
              "  'is',\n",
              "  'professional',\n",
              "  'purpose',\n",
              "  'impacted',\n",
              "  'in',\n",
              "  'the',\n",
              "  'context',\n",
              "  'of',\n",
              "  'a'])"
            ]
          },
          "metadata": {},
          "execution_count": 12
        }
      ]
    },
    {
      "cell_type": "markdown",
      "source": [
        "Convert indices into the tensors"
      ],
      "metadata": {
        "id": "3rjB4X9p0EHT"
      }
    },
    {
      "cell_type": "code",
      "source": [
        "X = []\n",
        "Y = []\n",
        "sequence_length =10\n",
        "for ind in range(len(words_indexes)):\n",
        "  if len(words_indexes[ind+1:ind+sequence_length+1]) ==10:\n",
        "    X.append(torch.tensor(words_indexes[ind:ind+sequence_length]))\n",
        "    Y.append(torch.tensor(words_indexes[ind+1:ind+sequence_length+1]))\n",
        "  else:\n",
        "    pass"
      ],
      "metadata": {
        "id": "MczApmj9VjDs"
      },
      "execution_count": 13,
      "outputs": []
    },
    {
      "cell_type": "code",
      "source": [
        "import torch\n",
        "from torch.utils.data import DataLoader\n",
        "from torch import nn\n",
        "dataset = (X, Y)\n",
        "dataloader = DataLoader(\n",
        "        X,\n",
        "        batch_size=120\n",
        "    )"
      ],
      "metadata": {
        "id": "beMsfSBNXpFO"
      },
      "execution_count": 14,
      "outputs": []
    },
    {
      "cell_type": "markdown",
      "source": [
        "Convert data into the batches and create the numerical vectors using embedding techinques"
      ],
      "metadata": {
        "id": "b8BHOgDR0V9X"
      }
    },
    {
      "cell_type": "code",
      "source": [
        "input_size = len(uniq_words)\n",
        "embedding_size = 128\n",
        "n =0\n",
        "for inputs in dataloader:\n",
        "  embd = nn.Embedding(num_embeddings=input_size, embedding_dim=embedding_size)\n",
        "  xx = embd(torch.tensor(inputs))\n",
        "  print (xx.shape)\n",
        "  n +=1\n",
        "  if n >2:\n",
        "    break"
      ],
      "metadata": {
        "id": "ggMnV4gSYU0N",
        "colab": {
          "base_uri": "https://localhost:8080/"
        },
        "outputId": "5f84e041-c79b-453b-d357-9f87a1d22c65"
      },
      "execution_count": 15,
      "outputs": [
        {
          "output_type": "stream",
          "name": "stdout",
          "text": [
            "torch.Size([120, 10, 128])\n",
            "torch.Size([120, 10, 128])\n",
            "torch.Size([120, 10, 128])\n"
          ]
        },
        {
          "output_type": "stream",
          "name": "stderr",
          "text": [
            "<ipython-input-15-14cd4a0ef43b>:6: UserWarning: To copy construct from a tensor, it is recommended to use sourceTensor.clone().detach() or sourceTensor.clone().detach().requires_grad_(True), rather than torch.tensor(sourceTensor).\n",
            "  xx = embd(torch.tensor(inputs))\n"
          ]
        }
      ]
    },
    {
      "cell_type": "code",
      "source": [
        "xx[0][0]"
      ],
      "metadata": {
        "id": "Qkcmsz5RctIh",
        "colab": {
          "base_uri": "https://localhost:8080/"
        },
        "outputId": "a1e7e124-58b4-49cd-fc91-e66e78b72c67"
      },
      "execution_count": 16,
      "outputs": [
        {
          "output_type": "execute_result",
          "data": {
            "text/plain": [
              "tensor([-0.3105, -1.0630, -1.0082, -1.7012, -1.0028,  0.2383, -0.7115, -0.6248,\n",
              "        -0.4833,  0.8417,  0.0357, -1.5302,  0.3299, -0.4603,  0.9759,  2.7192,\n",
              "         1.6852, -1.4367, -2.6902, -0.7348, -0.3711,  1.0375, -1.1400, -2.3838,\n",
              "        -0.0745,  0.5448, -2.9172, -0.6825, -0.1317,  0.1194, -0.7768, -0.2141,\n",
              "         0.1062,  0.5886,  1.1848, -1.7152, -0.9607, -1.4381, -0.1511,  1.1268,\n",
              "        -2.1101,  0.9694,  1.6128, -1.8320,  0.9938, -0.8008, -1.1263,  0.9123,\n",
              "         0.4421,  1.6762,  0.8883,  0.8360, -0.3125,  2.7320, -1.1910,  0.4727,\n",
              "        -1.3230,  0.8406, -0.5163, -0.7798, -0.5992, -0.3030, -0.6057, -1.4759,\n",
              "        -0.1596, -1.8029, -1.2454, -0.5041,  0.0290, -0.6380,  0.2050, -1.7178,\n",
              "         0.9707, -0.5767, -0.0979,  0.0201,  0.2574,  0.4221,  0.4612,  0.5533,\n",
              "        -0.4694,  1.2947, -2.8812, -0.9040,  0.6671,  1.2445, -0.0987, -0.8478,\n",
              "        -0.8391,  1.5415, -0.4356,  1.5633,  1.8871,  0.9108, -1.7342, -0.7662,\n",
              "        -0.1371,  1.2873,  0.1314, -1.5792, -0.6393,  1.0221,  0.5576, -0.4771,\n",
              "         1.0965, -1.4637, -2.0322, -0.4520,  0.4180, -0.9500, -0.3515,  0.4231,\n",
              "         1.0308, -0.3959, -0.9898, -0.9365, -0.2667, -0.2298,  0.1602, -1.2152,\n",
              "         1.8228, -1.4227, -2.0234, -1.6080,  1.9742, -0.6109,  0.4154, -1.9926],\n",
              "       grad_fn=<SelectBackward0>)"
            ]
          },
          "metadata": {},
          "execution_count": 16
        }
      ]
    },
    {
      "cell_type": "code",
      "source": [],
      "metadata": {
        "id": "7sEZWNOtdVps"
      },
      "execution_count": null,
      "outputs": []
    }
  ]
}